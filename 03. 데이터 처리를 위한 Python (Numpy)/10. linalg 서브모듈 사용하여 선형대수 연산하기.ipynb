{
 "cells": [
  {
   "cell_type": "markdown",
   "metadata": {},
   "source": [
    "## 학습목표\n",
    " 1. linalg 서브모듈 함수 활용여 선형대수 연산하기"
   ]
  },
  {
   "cell_type": "code",
   "execution_count": 1,
   "metadata": {},
   "outputs": [],
   "source": [
    "import numpy as np"
   ]
  },
  {
   "cell_type": "markdown",
   "metadata": {},
   "source": [
    "#### np.linalg.inv\n",
    " - 역행렬을 구할 때 사용\n",
    " - 모든 차원의 값이 같아야 함"
   ]
  },
  {
   "cell_type": "code",
   "execution_count": 2,
   "metadata": {},
   "outputs": [
    {
     "name": "stdout",
     "output_type": "stream",
     "text": [
      "[[[0.86048097 0.25053075 0.56925858]\n",
      "  [0.1252675  0.25325154 0.3566675 ]\n",
      "  [0.46151312 0.51201971 0.61490602]]\n",
      "\n",
      " [[0.98090288 0.17041297 0.44455943]\n",
      "  [0.22662679 0.13538481 0.68348003]\n",
      "  [0.51367768 0.12080435 0.13625642]]\n",
      "\n",
      " [[0.11234039 0.7873887  0.16838   ]\n",
      "  [0.18421607 0.50968429 0.907876  ]\n",
      "  [0.11423651 0.85084466 0.54695214]]]\n"
     ]
    },
    {
     "data": {
      "text/plain": [
       "array([[[ 1.00000000e+00,  8.88178420e-16,  0.00000000e+00],\n",
       "        [ 1.11022302e-16,  1.00000000e+00,  0.00000000e+00],\n",
       "        [ 2.22044605e-16,  8.88178420e-16,  1.00000000e+00]],\n",
       "\n",
       "       [[ 1.00000000e+00, -1.11022302e-16, -2.22044605e-16],\n",
       "        [ 2.22044605e-16,  1.00000000e+00,  0.00000000e+00],\n",
       "        [ 1.94289029e-16, -1.11022302e-16,  1.00000000e+00]],\n",
       "\n",
       "       [[ 1.00000000e+00,  1.31838984e-16,  4.99600361e-16],\n",
       "        [ 0.00000000e+00,  1.00000000e+00,  8.88178420e-16],\n",
       "        [ 0.00000000e+00,  1.38777878e-16,  1.00000000e+00]]])"
      ]
     },
     "execution_count": 2,
     "metadata": {},
     "output_type": "execute_result"
    }
   ],
   "source": [
    "x = np.random.rand(3, 3, 3)\n",
    "print(x)\n",
    "\n",
    "np.matmul(x, np.linalg.inv(x))\n",
    "x @ np.linalg.inv(x)"
   ]
  },
  {
   "cell_type": "markdown",
   "metadata": {},
   "source": [
    "#### np.linalg.solve\n",
    " - Ax = B 형태의 선형대수식 솔루션을 제공\n",
    " - 예제) 호랑이와 홍합의 합 : 25 호랑이 다리와 홍합 다리의 합은 64\n",
    "   - x + y = 25\n",
    "   - 2x + 4y = 64\n",
    "   \n",
    " $$\\begin{pmatrix} 1 & 1 \\\\ 2 & 4 \\end{pmatrix}\\begin{pmatrix} x \\\\ y \\end{pmatrix}= \\begin{pmatrix} 25 \\\\ 64 \\end{pmatrix}$$\n"
   ]
  },
  {
   "cell_type": "code",
   "execution_count": 3,
   "metadata": {},
   "outputs": [
    {
     "name": "stdout",
     "output_type": "stream",
     "text": [
      "[18.  7.]\n"
     ]
    },
    {
     "data": {
      "text/plain": [
       "True"
      ]
     },
     "execution_count": 3,
     "metadata": {},
     "output_type": "execute_result"
    }
   ],
   "source": [
    "A = np.array([[1, 1], [2, 4]])\n",
    "B = np.array([25, 64])\n",
    "\n",
    "x = np.linalg.solve(A, B)\n",
    "print(x)\n",
    "\n",
    "np.allclose(A@x, B)"
   ]
  },
  {
   "cell_type": "code",
   "execution_count": null,
   "metadata": {},
   "outputs": [],
   "source": []
  }
 ],
 "metadata": {
  "kernelspec": {
   "display_name": "Python 3",
   "language": "python",
   "name": "python3"
  },
  "language_info": {
   "codemirror_mode": {
    "name": "ipython",
    "version": 3
   },
   "file_extension": ".py",
   "mimetype": "text/x-python",
   "name": "python",
   "nbconvert_exporter": "python",
   "pygments_lexer": "ipython3",
   "version": "3.8.8"
  }
 },
 "nbformat": 4,
 "nbformat_minor": 1
}
