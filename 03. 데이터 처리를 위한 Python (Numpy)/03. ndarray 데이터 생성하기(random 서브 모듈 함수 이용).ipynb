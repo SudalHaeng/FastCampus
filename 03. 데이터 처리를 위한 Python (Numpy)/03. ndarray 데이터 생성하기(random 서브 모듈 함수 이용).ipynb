{
 "cells": [
  {
   "cell_type": "markdown",
   "metadata": {},
   "source": [
    "### 학습목표\n",
    " - random 서브모듈 함수를 통해 ndarray 생성하기"
   ]
  },
  {
   "cell_type": "code",
   "execution_count": 1,
   "metadata": {},
   "outputs": [],
   "source": [
    "import numpy as np"
   ]
  },
  {
   "cell_type": "markdown",
   "metadata": {},
   "source": [
    "#### random 서브모듈"
   ]
  },
  {
   "cell_type": "markdown",
   "metadata": {},
   "source": [
    "#### rand 함수\n",
    " - 0, 1사이의 분포로 랜덤한 ndarray 생성"
   ]
  },
  {
   "cell_type": "code",
   "execution_count": 2,
   "metadata": {},
   "outputs": [
    {
     "data": {
      "text/plain": [
       "array([[0.9198888 , 0.9588151 , 0.35893309],\n",
       "       [0.19917775, 0.28615648, 0.94509171]])"
      ]
     },
     "execution_count": 2,
     "metadata": {},
     "output_type": "execute_result"
    }
   ],
   "source": [
    "np.random.rand(2,3)"
   ]
  },
  {
   "cell_type": "code",
   "execution_count": 3,
   "metadata": {},
   "outputs": [
    {
     "data": {
      "text/plain": [
       "array([0.40465603, 0.44003886])"
      ]
     },
     "execution_count": 3,
     "metadata": {},
     "output_type": "execute_result"
    }
   ],
   "source": [
    "np.random.rand(2)"
   ]
  },
  {
   "cell_type": "code",
   "execution_count": 4,
   "metadata": {},
   "outputs": [
    {
     "data": {
      "text/plain": [
       "array([[[0.21847327, 0.71867358, 0.26804879],\n",
       "        [0.56726773, 0.84035412, 0.90344251],\n",
       "        [0.0961871 , 0.97847635, 0.79112406],\n",
       "        [0.68717646, 0.19510431, 0.03577478],\n",
       "        [0.74991181, 0.0193598 , 0.80011282]],\n",
       "\n",
       "       [[0.05027104, 0.77590083, 0.0016522 ],\n",
       "        [0.88175873, 0.62198607, 0.18901127],\n",
       "        [0.12781848, 0.21070653, 0.92029594],\n",
       "        [0.0920885 , 0.24815313, 0.8144465 ],\n",
       "        [0.27400978, 0.90896416, 0.24069436]],\n",
       "\n",
       "       [[0.01678294, 0.04646677, 0.93827023],\n",
       "        [0.95140206, 0.48690209, 0.79125622],\n",
       "        [0.57001973, 0.08679072, 0.38691311],\n",
       "        [0.57266237, 0.37846227, 0.21340309],\n",
       "        [0.88170674, 0.88076593, 0.57329862]],\n",
       "\n",
       "       [[0.10348854, 0.36695875, 0.86753801],\n",
       "        [0.25703181, 0.97221617, 0.18071359],\n",
       "        [0.79575135, 0.83957381, 0.86755599],\n",
       "        [0.92914118, 0.82645856, 0.30966227],\n",
       "        [0.34216101, 0.35434512, 0.43769883]]])"
      ]
     },
     "execution_count": 4,
     "metadata": {},
     "output_type": "execute_result"
    }
   ],
   "source": [
    "np.random.rand(4,5,3)"
   ]
  },
  {
   "cell_type": "markdown",
   "metadata": {},
   "source": [
    "#### randn함수\n",
    " - n: normal distribution(정규분포)\n",
    " - 정규분포로 샘플링된 랜덤 ndarray 생성"
   ]
  },
  {
   "cell_type": "code",
   "execution_count": 5,
   "metadata": {},
   "outputs": [
    {
     "data": {
      "text/plain": [
       "array([[ 1.96729969e-01,  3.16621226e-01,  1.35160787e-01],\n",
       "       [-1.47791292e+00,  4.08837443e-01,  1.45877003e-03]])"
      ]
     },
     "execution_count": 5,
     "metadata": {},
     "output_type": "execute_result"
    }
   ],
   "source": [
    "np.random.randn(2,3)"
   ]
  },
  {
   "cell_type": "code",
   "execution_count": 6,
   "metadata": {},
   "outputs": [
    {
     "data": {
      "text/plain": [
       "array([-0.54483269,  1.32219175,  1.24857486])"
      ]
     },
     "execution_count": 6,
     "metadata": {},
     "output_type": "execute_result"
    }
   ],
   "source": [
    "np.random.randn(3)"
   ]
  },
  {
   "cell_type": "code",
   "execution_count": 7,
   "metadata": {},
   "outputs": [
    {
     "data": {
      "text/plain": [
       "array([[[ 0.19522332,  1.3091543 ,  1.77925619,  1.6297403 ],\n",
       "        [-1.90945468,  0.31534963,  0.8764202 ,  0.35153109],\n",
       "        [-1.30389003,  1.22305293,  0.12053059, -1.65173819]],\n",
       "\n",
       "       [[-1.06588167, -1.54983035, -1.78355172, -1.4292434 ],\n",
       "        [ 1.40110883, -0.75161317, -0.52006993, -0.86451308],\n",
       "        [-0.45024154,  0.98087562,  0.03577365,  1.35622933]]])"
      ]
     },
     "execution_count": 7,
     "metadata": {},
     "output_type": "execute_result"
    }
   ],
   "source": [
    "np.random.randn(2,3,4)"
   ]
  },
  {
   "cell_type": "markdown",
   "metadata": {},
   "source": [
    "#### randint 함수\n",
    " - 특정 정수 사이에서 랜덤하게 샘플링"
   ]
  },
  {
   "cell_type": "code",
   "execution_count": 8,
   "metadata": {},
   "outputs": [
    {
     "data": {
      "text/plain": [
       "array([[68, 86, 48, 83, 66],\n",
       "       [69, 32, 30, 45, 40],\n",
       "       [ 7, 42, 77, 56, 91]])"
      ]
     },
     "execution_count": 8,
     "metadata": {},
     "output_type": "execute_result"
    }
   ],
   "source": [
    "np.random.randint(1,100,size=(3,5))\n",
    "#1부터 100까지 정수를 랜덤하게  3행5열로"
   ]
  },
  {
   "cell_type": "code",
   "execution_count": 9,
   "metadata": {},
   "outputs": [
    {
     "data": {
      "text/plain": [
       "array([15, 24, 60,  9,  2])"
      ]
     },
     "execution_count": 9,
     "metadata": {},
     "output_type": "execute_result"
    }
   ],
   "source": [
    "np.random.randint(1,100, size=(5,))"
   ]
  },
  {
   "cell_type": "markdown",
   "metadata": {},
   "source": [
    "#### seed 함수\n",
    " - 랜덤한 값을 동일하게 다시 생성하고자 할때 사용"
   ]
  },
  {
   "cell_type": "code",
   "execution_count": 10,
   "metadata": {},
   "outputs": [],
   "source": [
    "np.random.seed(100)\n",
    "#실험번호라고 생각하면 됨\n",
    "#seed 실행후 그 다음 값은 고정이 됨"
   ]
  },
  {
   "cell_type": "code",
   "execution_count": 11,
   "metadata": {},
   "outputs": [
    {
     "data": {
      "text/plain": [
       "array([[-1.74976547,  0.3426804 ,  1.1530358 , -0.25243604],\n",
       "       [ 0.98132079,  0.51421884,  0.22117967, -1.07004333],\n",
       "       [-0.18949583,  0.25500144, -0.45802699,  0.43516349]])"
      ]
     },
     "execution_count": 11,
     "metadata": {},
     "output_type": "execute_result"
    }
   ],
   "source": [
    "np.random.randn(3,4)"
   ]
  },
  {
   "cell_type": "code",
   "execution_count": 12,
   "metadata": {},
   "outputs": [
    {
     "data": {
      "text/plain": [
       "array([[-0.58359505,  0.81684707,  0.67272081, -0.10441114],\n",
       "       [-0.53128038,  1.02973269, -0.43813562, -1.11831825],\n",
       "       [ 1.61898166,  1.54160517, -0.25187914, -0.84243574]])"
      ]
     },
     "execution_count": 12,
     "metadata": {},
     "output_type": "execute_result"
    }
   ],
   "source": [
    "np.random.randn(3,4)"
   ]
  },
  {
   "cell_type": "markdown",
   "metadata": {},
   "source": [
    "#### choice\n",
    " - 주어진 1차원 ndarray로 부터 랜덤으로 샘플링\n",
    " - 정수가 주어진 경우, np.arange(해당숫자)로 간주"
   ]
  },
  {
   "cell_type": "code",
   "execution_count": 13,
   "metadata": {},
   "outputs": [
    {
     "data": {
      "text/plain": [
       "array([[39, 38, 44, 18],\n",
       "       [64, 56, 34, 53],\n",
       "       [74, 17, 72, 13]])"
      ]
     },
     "execution_count": 13,
     "metadata": {},
     "output_type": "execute_result"
    }
   ],
   "source": [
    "np.random.choice(100, size=(3, 4))"
   ]
  },
  {
   "cell_type": "code",
   "execution_count": 14,
   "metadata": {},
   "outputs": [
    {
     "data": {
      "text/plain": [
       "array([[3. , 2. ],\n",
       "       [4.9, 2.6]])"
      ]
     },
     "execution_count": 14,
     "metadata": {},
     "output_type": "execute_result"
    }
   ],
   "source": [
    "x= np.array([1,2,3,1.5,2.6,4.9])\n",
    "np.random.choice(x, size=(2,2))"
   ]
  },
  {
   "cell_type": "code",
   "execution_count": 15,
   "metadata": {},
   "outputs": [
    {
     "data": {
      "text/plain": [
       "array([[4.9, 2.6],\n",
       "       [2. , 1.5]])"
      ]
     },
     "execution_count": 15,
     "metadata": {},
     "output_type": "execute_result"
    }
   ],
   "source": [
    "np.random.choice(x,size=(2,2),replace=False)\n",
    "#사용했던거는 다시 못 쓰게 : replace=F"
   ]
  },
  {
   "cell_type": "markdown",
   "metadata": {},
   "source": [
    "#### 확률분포에 따른 ndarray 생성\n",
    " - uniform\n",
    " - normal 등등"
   ]
  },
  {
   "cell_type": "code",
   "execution_count": 16,
   "metadata": {},
   "outputs": [
    {
     "data": {
      "text/plain": [
       "array([[2.67226363, 1.15078982, 1.02280158, 1.09684114, 1.71424542],\n",
       "       [2.33138675, 1.02277922, 1.21583553, 2.8020262 , 2.58975752],\n",
       "       [2.62292196, 2.28055611, 2.24955902, 1.29101502, 2.1404318 ],\n",
       "       [1.130225  , 1.62682514, 1.43413153, 2.05390078, 1.85421676]])"
      ]
     },
     "execution_count": 16,
     "metadata": {},
     "output_type": "execute_result"
    }
   ],
   "source": [
    "np.random.uniform(1.0,3.0, size=(4,5))"
   ]
  },
  {
   "cell_type": "code",
   "execution_count": 17,
   "metadata": {},
   "outputs": [
    {
     "data": {
      "text/plain": [
       "array([[ 0.79067165,  0.68000189,  0.71660582,  0.47770485],\n",
       "       [-0.66623993,  0.08448008, -0.33876049,  0.70592118],\n",
       "       [-1.6017614 ,  0.39324807, -0.60165768,  1.83797752]])"
      ]
     },
     "execution_count": 17,
     "metadata": {},
     "output_type": "execute_result"
    }
   ],
   "source": [
    "np.random.normal(size=(3,4))"
   ]
  },
  {
   "cell_type": "code",
   "execution_count": 18,
   "metadata": {},
   "outputs": [
    {
     "data": {
      "text/plain": [
       "array([[-0.01994237,  0.4212484 , -0.19530941, -0.21627238],\n",
       "       [-0.68825288,  0.00473325,  0.42469019, -0.20090269],\n",
       "       [-0.75783351, -2.26909897, -0.9565702 ,  0.19481524]])"
      ]
     },
     "execution_count": 18,
     "metadata": {},
     "output_type": "execute_result"
    }
   ],
   "source": [
    "np.random.randn(3,4)"
   ]
  }
 ],
 "metadata": {
  "kernelspec": {
   "display_name": "Python 3",
   "language": "python",
   "name": "python3"
  },
  "language_info": {
   "codemirror_mode": {
    "name": "ipython",
    "version": 3
   },
   "file_extension": ".py",
   "mimetype": "text/x-python",
   "name": "python",
   "nbconvert_exporter": "python",
   "pygments_lexer": "ipython3",
   "version": "3.8.5"
  }
 },
 "nbformat": 4,
 "nbformat_minor": 2
}
